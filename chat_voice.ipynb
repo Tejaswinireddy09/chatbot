{
 "cells": [
  {
   "cell_type": "code",
   "execution_count": 2,
   "metadata": {},
   "outputs": [],
   "source": [
    "import nltk\n",
    "import string\n",
    "import random\n",
    "import numpy as np\n",
    "import speech_recognition as sr\n",
    "from speech_recognition.__main__ import r"
   ]
  },
  {
   "cell_type": "code",
   "execution_count": 3,
   "metadata": {},
   "outputs": [],
   "source": [
    "f = open('bot.txt',errors = 'ignore')\n",
    "raw_doc = f.read()\n",
    "a =1"
   ]
  },
  {
   "cell_type": "code",
   "execution_count": 4,
   "metadata": {},
   "outputs": [
    {
     "name": "stderr",
     "output_type": "stream",
     "text": [
      "[nltk_data] Downloading package punkt to\n",
      "[nltk_data]     C:\\Users\\MicroApt\\AppData\\Roaming\\nltk_data...\n",
      "[nltk_data]   Package punkt is already up-to-date!\n",
      "[nltk_data] Downloading package wordnet to\n",
      "[nltk_data]     C:\\Users\\MicroApt\\AppData\\Roaming\\nltk_data...\n",
      "[nltk_data]   Package wordnet is already up-to-date!\n",
      "[nltk_data] Downloading package omw-1.4 to\n",
      "[nltk_data]     C:\\Users\\MicroApt\\AppData\\Roaming\\nltk_data...\n",
      "[nltk_data]   Package omw-1.4 is already up-to-date!\n"
     ]
    }
   ],
   "source": [
    "raw_doc = raw_doc.lower()\n",
    "nltk.download('punkt') #tokeniser\n",
    "nltk.download('wordnet')# wordnet dictionary\n",
    "nltk.download('omw-1.4')\n",
    "sentence_tokens = nltk.sent_tokenize(raw_doc)"
   ]
  },
  {
   "cell_type": "code",
   "execution_count": 5,
   "metadata": {},
   "outputs": [
    {
     "data": {
      "text/plain": [
       "'hello\\thi\\nhi\\t\\thello\\ngreetings!'"
      ]
     },
     "execution_count": 5,
     "metadata": {},
     "output_type": "execute_result"
    }
   ],
   "source": [
    "word_tokens =nltk.word_tokenize(raw_doc)\n",
    "sentence_tokens = nltk.sent_tokenize(raw_doc)\n",
    "sentence_tokens[0]"
   ]
  },
  {
   "cell_type": "code",
   "execution_count": 6,
   "metadata": {},
   "outputs": [],
   "source": [
    "\n",
    "lemmer = nltk.stem.WordNetLemmatizer()\n",
    "def lemtokens(tokens):\n",
    "  return [lemmer.lemmatize(token)for token in tokens]\n",
    "remove_punc = dict((ord(punct),None)for punct in string.punctuation)\n",
    "def lemnormalize(text):\n",
    "  return lemtokens(nltk.word_tokenize(text.lower().translate(remove_punc)))"
   ]
  },
  {
   "cell_type": "code",
   "execution_count": 7,
   "metadata": {},
   "outputs": [],
   "source": [
    "greet_intput = ('Hello', 'hi','How are you?')\n",
    "greet_responses = (\"hey\",\"hello thanks for visiting\",\"Hi, there what can I do for you,hi there, how can I help?\")\n",
    "def greet(sentence):\n",
    "  for word in sentence.split():\n",
    "    if word.lower()in greet_intput:\n",
    "      return random.choice(greet_responses)"
   ]
  },
  {
   "cell_type": "code",
   "execution_count": 8,
   "metadata": {},
   "outputs": [],
   "source": [
    "from sklearn.feature_extraction.text import TfidfVectorizer\n",
    "from sklearn.metrics.pairwise import cosine_similarity"
   ]
  },
  {
   "cell_type": "code",
   "execution_count": 9,
   "metadata": {},
   "outputs": [],
   "source": [
    "\n",
    "def response(user_response):\n",
    "  robol_response = ''\n",
    "  TfidfVec = TfidfVectorizer(tokenizer = lemnormalize, stop_words = 'english') \n",
    "  tfidf = TfidfVec.fit_transform(sentence_tokens) \n",
    "  vals = cosine_similarity (tfidf[-1], tfidf)\n",
    "  idx= vals.argsort()[0][-2]\n",
    "  flat =  vals.flatten()\n",
    "  flat.sort()\n",
    "  req_tfidf = flat[-2]\n",
    "  if(req_tfidf ==0):\n",
    "    robol_response = robol_response + \"I am sorry. Unable to understand you!\"\n",
    "    return robol_response\n",
    "  else:\n",
    "    robo1_response = robol_response+ sentence_tokens[idx]\n",
    "    print(robo1_response)\n",
    "    return robol_response"
   ]
  },
  {
   "cell_type": "code",
   "execution_count": 10,
   "metadata": {},
   "outputs": [],
   "source": [
    "try:\n",
    "  def chat():\n",
    "    word_tokens=[]\n",
    "    flag = True\n",
    "    print('Hello! Welcome to P2F Software Training\\n How Can I help you? ')\n",
    "    while(flag ==True):\n",
    "      text =''\n",
    "      user_response = input()\n",
    "      user_response = user_response.lower()\n",
    "      if(user_response != 'bye'):\n",
    "        if(user_response == 'thank you' or user_response == 'thanks'):\n",
    "          flag = False\n",
    "          print('Bot: You are welcome..')\n",
    "          break\n",
    "        \n",
    "        else:\n",
    "          if(greet(user_response) != None):\n",
    "            print('Bot: '+ greet(user_response))\n",
    "          sentence_tokens.append(user_response)\n",
    "          word_tokens = word_tokens + nltk.word_tokenize(user_response)\n",
    "          word_tokens = list(set(word_tokens))\n",
    "          print('Bot:', end = '')\n",
    "          print(response(user_response))\n",
    "          sentence_tokens.remove(user_response)\n",
    "      else:\n",
    "        flag = False\n",
    "        print('Bot: Goodbye!')\n",
    "        break\n",
    "except KeyboardInterrupt: \n",
    "  print('Bye')"
   ]
  },
  {
   "cell_type": "code",
   "execution_count": 11,
   "metadata": {},
   "outputs": [],
   "source": [
    "\n",
    "# def ask(text):\n",
    "#     try:\n",
    "#         with sr.Microphone() as source:\n",
    "#             while flag==True:\n",
    "#                 print(\"Bot: Recognizing...\")\n",
    "#                 audio_data = r.record(source,duration=5)\n",
    "#                 text = r.recognize_google(audio_data)\n",
    "#                 return text\n",
    "#     except sr.RequestError as e:\n",
    "#         return None\n",
    "#     except sr.UnknownValueError:\n",
    "#         print(\"Bot: Couldn't recognise\")\n",
    "#     finally:\n",
    "#         return print(None) "
   ]
  },
  {
   "cell_type": "code",
   "execution_count": 12,
   "metadata": {},
   "outputs": [],
   "source": [
    "def ask(text):\n",
    "    import speech_recognition as sr\n",
    "\n",
    "    r = sr.Recognizer()\n",
    "    m = sr.Microphone()\n",
    "\n",
    "    try:\n",
    "        with m as source: r.adjust_for_ambient_noise(source)\n",
    "        while True:\n",
    "            with m as source: audio = r.listen(source)\n",
    "            try:\n",
    "                # recognize speech using Google Speech Recognition\n",
    "                value = r.recognize_google(audio)\n",
    "                print('User:',value)\n",
    "                return value\n",
    "            except sr.UnknownValueError:\n",
    "                print(\"bot:Oops! Didn't catch that\")\n",
    "            except sr.RequestError as e:\n",
    "                print(\"bot:Uh oh!try again\")\n",
    "    except KeyboardInterrupt:\n",
    "        pass"
   ]
  },
  {
   "cell_type": "code",
   "execution_count": 13,
   "metadata": {},
   "outputs": [],
   "source": [
    "def voice():\n",
    "  flag = True\n",
    "  print('Hello! Welcome to P2F Software Training\\n How Can I help you? ')\n",
    "  while(flag ==True):\n",
    "    text =''\n",
    "    word_tokens=[]\n",
    "    print('A moment of silence please!')\n",
    "    user_response = ask(text)\n",
    "    if user_response == None:\n",
    "      print('Bot: No input recieved')\n",
    "      voice()\n",
    "    else:\n",
    "      user_response = user_response.lower()\n",
    "      if(user_response != 'bye'):\n",
    "        if(user_response == 'thank you' or user_response == 'thanks'):\n",
    "          flag = False\n",
    "          print('bot: You are welcome..')\n",
    "        else:\n",
    "          # if(greet(user_response) != None):\n",
    "          #   print('Bot: '+ greet(user_response))\n",
    "            sentence_tokens.append(user_response)\n",
    "            word_tokens = word_tokens + nltk.word_tokenize(user_response)\n",
    "            word_tokens = list(set(word_tokens))\n",
    "            print('Bot:', end = '') \n",
    "            print(response(user_response))\n",
    "            sentence_tokens.remove(user_response)\n",
    "      else:\n",
    "        flag = False\n",
    "        print('Bot: Goodbye!') \n",
    "        break "
   ]
  },
  {
   "cell_type": "code",
   "execution_count": 14,
   "metadata": {},
   "outputs": [
    {
     "name": "stdout",
     "output_type": "stream",
     "text": [
      "Hello, Please Select option 1 for text chat and option 2 for voice chat assistance\n",
      "Hello! Welcome to P2F Software Training\n",
      " How Can I help you? \n",
      "A moment of silence please!\n",
      "User: hello\n",
      "Bot:"
     ]
    },
    {
     "name": "stderr",
     "output_type": "stream",
     "text": [
      "C:\\Users\\MicroApt\\AppData\\Roaming\\Python\\Python311\\site-packages\\sklearn\\feature_extraction\\text.py:404: UserWarning: Your stop_words may be inconsistent with your preprocessing. Tokenizing the stop words generated tokens ['ha', 'le', 'u', 'wa'] not in stop_words.\n",
      "  warnings.warn(\n"
     ]
    },
    {
     "name": "stdout",
     "output_type": "stream",
     "text": [
      "hello\n",
      "hello\tgreetings!\n",
      "\n",
      "A moment of silence please!\n",
      "User: python\n",
      "Bot:courses\t\tpython/machine learning/html&css/java/linux/node/networking/react/aws/data analysis/devops\n",
      "free trail\t3 day trail before you buy it .no credit card required /signup now/pricing/go to menu\n",
      "pricing\t\twe offer 2 different plans 1.payment in oneshot 20% discount 2. payment in 2 installments 5% discount/ compare plans/go to menu\n",
      "python--->\n",
      "python content\n",
      "python fee--->\t45,000 1.in one shot 36,000  2.\n",
      "\n",
      "A moment of silence please!\n",
      "bot:Oops! Didn't catch that\n",
      "bot:Oops! Didn't catch that\n",
      "User: thank you\n",
      "bot: You are welcome..\n"
     ]
    }
   ],
   "source": [
    "print(\"Hello, Please Select option 1 for text chat and option 2 for voice chat assistance\")\n",
    "option = int(input())\n",
    "if option ==1:\n",
    "    chat()\n",
    "else:\n",
    "    voice()"
   ]
  }
 ],
 "metadata": {
  "kernelspec": {
   "display_name": "Python 3.11.0 64-bit",
   "language": "python",
   "name": "python3"
  },
  "language_info": {
   "codemirror_mode": {
    "name": "ipython",
    "version": 3
   },
   "file_extension": ".py",
   "mimetype": "text/x-python",
   "name": "python",
   "nbconvert_exporter": "python",
   "pygments_lexer": "ipython3",
   "version": "3.11.0"
  },
  "orig_nbformat": 4,
  "vscode": {
   "interpreter": {
    "hash": "5238573367df39f7286bb46f9ff5f08f63a01a80960060ce41e3c79b190280fa"
   }
  }
 },
 "nbformat": 4,
 "nbformat_minor": 2
}
