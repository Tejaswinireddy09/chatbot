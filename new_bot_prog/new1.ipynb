{
 "cells": [
  {
   "cell_type": "code",
   "execution_count": null,
   "metadata": {},
   "outputs": [],
   "source": [
    "import random\n",
    "import json"
   ]
  },
  {
   "cell_type": "code",
   "execution_count": null,
   "metadata": {},
   "outputs": [],
   "source": [
    "for intent in intents['intents']:\n",
    "    if tag == intent[\"tag\"]:\n",
    "        print(f\"bot: {random.choice(intent['responses'])}\")\n",
    "    else:\n",
    "        print(\"bot: Did you mean python/java/C/C++/Devops?\")"
   ]
  }
 ],
 "metadata": {
  "kernelspec": {
   "display_name": "Python 3.10.x 64-bit (microsoft store)",
   "language": "python",
   "name": "python3"
  },
  "language_info": {
   "name": "python",
   "version": "3.10"
  },
  "orig_nbformat": 4,
  "vscode": {
   "interpreter": {
    "hash": "fe00960231affefc1c261f6384445e48503e356dbea300a25b42e3338d3bb131"
   }
  }
 },
 "nbformat": 4,
 "nbformat_minor": 2
}
